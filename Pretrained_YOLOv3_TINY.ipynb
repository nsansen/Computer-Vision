{
 "cells": [
  {
   "cell_type": "code",
   "execution_count": null,
   "metadata": {},
   "outputs": [],
   "source": [
    "#  pip install opencv-python\n",
    "# https://www.udemy.com/course/computer-vision-yolo-custom-object-detection-with-colab-gpu/learn/lecture/20356733#overview\n",
    "# https://github.com/PacktPublishing/Computer-Vision-YOLO-Custom-Object-Detection-with-Colab-GPU"
   ]
  },
  {
   "cell_type": "code",
   "execution_count": null,
   "metadata": {},
   "outputs": [],
   "source": [
    "import cv2 #import Open-CV\n",
    "import numpy as np\n",
    "print(\"OPEN CV , CV2 version: \" + cv2.__version__)"
   ]
  },
  {
   "cell_type": "code",
   "execution_count": null,
   "metadata": {},
   "outputs": [],
   "source": [
    "# load the image to detect, get width, height \n",
    "\n",
    "img_to_detect = cv2.imread('images/testing/test2.jpeg')\n",
    "img_height = img_to_detect.shape[0]\n",
    "img_width = img_to_detect.shape[1]\n",
    "\n",
    "# convert to blob to pass into model // Convert image into a binary object\n",
    "img_blob = cv2.dnn.blobFromImage(img_to_detect, 0.003922, (416, 416), swapRB=True, crop=False)\n",
    "#recommended by yolo authors, scale factor is 0.003922=1/255, width,height of blob is 320,320\n",
    "#accepted sizes are 320×320,416×416,609×609. bigger size means more accuracy but less speed\n",
    "\n",
    "print(f'Image height: {img_height} \\nImage width: {img_width}')\n",
    "\n",
    "# set of 80 class labels \n",
    "class_labels = [\"person\",\"bicycle\",\"car\",\"motorcycle\",\"airplane\",\"bus\",\"train\",\"truck\",\"boat\",\n",
    "                \"trafficlight\",\"firehydrant\",\"stopsign\",\"parkingmeter\",\"bench\",\"bird\",\"cat\",\n",
    "                \"dog\",\"horse\",\"sheep\",\"cow\",\"elephant\",\"bear\",\"zebra\",\"giraffe\",\"backpack\",\n",
    "                \"umbrella\",\"handbag\",\"tie\",\"suitcase\",\"frisbee\",\"skis\",\"snowboard\",\"sportsball\",\n",
    "                \"kite\",\"baseballbat\",\"baseballglove\",\"skateboard\",\"surfboard\",\"tennisracket\",\n",
    "                \"bottle\",\"wineglass\",\"cup\",\"fork\",\"knife\",\"spoon\",\"bowl\",\"banana\",\"apple\",\n",
    "                \"sandwich\",\"orange\",\"broccoli\",\"carrot\",\"hotdog\",\"pizza\",\"donut\",\"cake\",\"chair\",\n",
    "                \"sofa\",\"pottedplant\",\"bed\",\"diningtable\",\"toilet\",\"tvmonitor\",\"laptop\",\"mouse\",\n",
    "                \"remote\",\"keyboard\",\"cellphone\",\"microwave\",\"oven\",\"toaster\",\"sink\",\"refrigerator\",\n",
    "                \"book\",\"clock\",\"vase\",\"scissors\",\"teddybear\",\"hairdrier\",\"toothbrush\"]\n",
    "\n",
    "import matplotlib.pyplot as plt\n",
    "plt.imshow(img_to_detect)\n",
    "plt.show()"
   ]
  },
  {
   "cell_type": "code",
   "execution_count": null,
   "metadata": {},
   "outputs": [],
   "source": [
    "#Declare List of colors as an array\n",
    "#Green, Blue, Red, cyan, yellow, purple\n",
    "#Split based on ',' and for every split, change type to int\n",
    "#convert that to a numpy array to apply color mask to the image numpy array\n",
    "class_colors = [\"0,255,0\",\"0,0,255\",\"255,0,0\",\"255,255,0\",\"0,255,255\"]\n",
    "class_colors = [np.array(every_color.split(\",\")).astype(\"int\") for every_color in class_colors]\n",
    "class_colors = np.array(class_colors)\n",
    "class_colors = np.tile(class_colors,(16,1)) #16 x 5colours = 80 class_labels \n",
    "\n",
    "# Loading pretrained model \n",
    "# input preprocessed blob into model and pass through the model\n",
    "# obtain the detection predictions by the model using forward() method\n",
    "yolo_model = cv2.dnn.readNetFromDarknet('model/yolov3.cfg','model/yolov3.weights') #OPEN-CV METHOD\n",
    "\n"
   ]
  },
  {
   "cell_type": "code",
   "execution_count": null,
   "metadata": {},
   "outputs": [],
   "source": [
    "# Get all layers from the yolo network\n",
    "# Loop and find the last layer (output layer) of the yolo network \n",
    "yolo_layers = yolo_model.getLayerNames()\n",
    "\n",
    "yolo_output_layer = [yolo_layers[yolo_layer - 1] for yolo_layer in yolo_model.getUnconnectedOutLayers()]"
   ]
  },
  {
   "cell_type": "code",
   "execution_count": null,
   "metadata": {},
   "outputs": [],
   "source": [
    "# input preprocessed blob into model and pass through the model\n",
    "yolo_model.setInput(img_blob)\n",
    "# obtain the detection layers by forwarding through till the output layer\n",
    "obj_detection_layers = yolo_model.forward(yolo_output_layer)\n",
    "\n",
    "\n",
    "# loop over each of the layer outputs\n",
    "for object_detection_layer in obj_detection_layers:\n",
    "\t# loop over the detections\n",
    "    for object_detection in object_detection_layer:\n",
    "        \n",
    "        # obj_detections[1 to 4] => will have the two center points, box width and box height\n",
    "        # obj_detections[5] => will have scores for all objects within bounding box\n",
    "        all_scores = object_detection[5:]\n",
    "        predicted_class_id = np.argmax(all_scores)\n",
    "        prediction_confidence = all_scores[predicted_class_id]\n",
    "    \n",
    "        # take only predictions with confidence more than 20%\n",
    "        if prediction_confidence > 0.20:\n",
    "            #get the predicted label\n",
    "            predicted_class_label = class_labels[predicted_class_id]\n",
    "            #obtain the bounding box co-oridnates for actual image from resized image size\n",
    "            bounding_box = object_detection[0:4] * np.array([img_width, img_height, img_width, img_height])\n",
    "            (box_center_x_pt, box_center_y_pt, box_width, box_height) = bounding_box.astype(\"int\")\n",
    "            start_x_pt = int(box_center_x_pt - (box_width / 2))\n",
    "            start_y_pt = int(box_center_y_pt - (box_height / 2))\n",
    "            end_x_pt = start_x_pt + box_width\n",
    "            end_y_pt = start_y_pt + box_height\n",
    "            \n",
    "            #get a random mask color from the numpy array of colors\n",
    "            box_color = class_colors[predicted_class_id]\n",
    "            \n",
    "            #convert the color numpy array as a list and apply to text and box\n",
    "            box_color = [int(c) for c in box_color]\n",
    "            \n",
    "            # print the prediction in console\n",
    "            predicted_class_label = \"{}: {:.2f}%\".format(predicted_class_label, prediction_confidence * 100)\n",
    "            print(\"predicted object {}\".format(predicted_class_label))\n",
    "            \n",
    "            # draw rectangle and text in the image\n",
    "            cv2.rectangle(img_to_detect, (start_x_pt, start_y_pt), (end_x_pt, end_y_pt), box_color, 1)\n",
    "            cv2.putText(img_to_detect, predicted_class_label, (start_x_pt, start_y_pt-5), cv2.FONT_HERSHEY_SIMPLEX, 0.5, box_color, 1)\n",
    "\n",
    "cv2.imshow(\"Detection Output\", img_to_detect)"
   ]
  },
  {
   "cell_type": "code",
   "execution_count": null,
   "metadata": {},
   "outputs": [],
   "source": [
    "plt.imshow(img_to_detect)\n",
    "plt.rcParams[\"figure.figsize\"] = (120,120)\n",
    "plt.show()"
   ]
  },
  {
   "cell_type": "code",
   "execution_count": null,
   "metadata": {},
   "outputs": [],
   "source": []
  }
 ],
 "metadata": {
  "kernelspec": {
   "display_name": "Python 3",
   "language": "python",
   "name": "python3"
  },
  "language_info": {
   "codemirror_mode": {
    "name": "ipython",
    "version": 3
   },
   "file_extension": ".py",
   "mimetype": "text/x-python",
   "name": "python",
   "nbconvert_exporter": "python",
   "pygments_lexer": "ipython3",
   "version": "3.8.5"
  }
 },
 "nbformat": 4,
 "nbformat_minor": 4
}
